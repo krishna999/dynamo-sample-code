{
 "cells": [
  {
   "cell_type": "markdown",
   "metadata": {},
   "source": [
    "# Few DynamoDB Samples using boto3"
   ]
  },
  {
   "cell_type": "markdown",
   "metadata": {},
   "source": [
    "## A Sample showing deletion of Items"
   ]
  },
  {
   "cell_type": "code",
   "execution_count": 63,
   "metadata": {},
   "outputs": [],
   "source": [
    "from boto3.dynamodb.conditions import Key, Attr\n",
    "import boto3\n",
    "\n",
    "dynamodb = boto3.resource('dynamodb', region_name='us-east-1')\n",
    "\n",
    "table = dynamodb.Table('Time-Log')\n",
    "\n",
    "fe = Attr('FileName').eq('REPLACE FILE NAME.pdf')\n",
    "\n",
    "response = table.scan(\n",
    "        FilterExpression=fe)\n",
    "\n",
    "with table.batch_writer() as batch:   \n",
    "    for item in response['Items']:\n",
    "        print(item['Id'])\n",
    "        batch.delete_item(Key={'Id':item['Id']})"
   ]
  },
  {
   "cell_type": "markdown",
   "metadata": {},
   "source": [
    "# Sample function showing Cleanup of tables"
   ]
  },
  {
   "cell_type": "code",
   "execution_count": null,
   "metadata": {},
   "outputs": [],
   "source": [
    "def _cleanExistingDynamoValues(table_name, file_name):\n",
    "        from boto3.dynamodb.conditions import Key, Attr\n",
    "\n",
    "        dynamodb = boto3.resource('dynamodb', region_name='us-east-1', config = config)\n",
    "\n",
    "        table = dynamodb.Table(table_name)\n",
    "\n",
    "        print('Deleting items pertaining to File Name -- ', file_name)\n",
    "        \n",
    "        fe = Attr('FileName').eq(file_name)\n",
    "        pe = \"Id\"\n",
    "        try :\n",
    "            response = table.scan(\n",
    "                    FilterExpression=fe,\n",
    "                    ProjectionExpression=pe\n",
    "                    )\n",
    "\n",
    "            with table.batch_writer() as batch:   \n",
    "                for item in response['Items']:\n",
    "                    print('Deleting ', item['Id'])\n",
    "                    batch.delete_item(Key={'Id':item['Id']})\n",
    "                    \n",
    "        except ClientError as e:\n",
    "            if e.response['Error']['Code'] in [\"ThrottlingException\", \"ProvisionedThroughputExceededException\"]:\n",
    "                msg = f\"DynamoDB ] Write Failed from DynamoDB, Throttling Exception [{e}] [{traceback.format_exc()}]\"\n",
    "                logging.warning(msg)\n",
    "                raise e\n",
    "\n",
    "            else:\n",
    "                msg = f\"DynamoDB Write Failed from DynamoDB Exception [{e}] [{traceback.format_exc()}]\"\n",
    "                logging.error(msg)\n",
    "                raise e\n",
    "\n",
    "        except Exception as e:\n",
    "            msg = f\"DynamoDB Write Failed from DynamoDB Exception [{e}] [{traceback.format_exc()}]\"\n",
    "            logging.error(msg)\n",
    "            raise Exception(e)"
   ]
  },
  {
   "cell_type": "code",
   "execution_count": 31,
   "metadata": {},
   "outputs": [],
   "source": [
    "from botocore.client import Config"
   ]
  },
  {
   "cell_type": "code",
   "execution_count": 32,
   "metadata": {},
   "outputs": [],
   "source": [
    "config = Config(\n",
    "            retries = dict(\n",
    "                max_attempts = 5\n",
    "            )\n",
    "        )"
   ]
  },
  {
   "cell_type": "code",
   "execution_count": 34,
   "metadata": {},
   "outputs": [
    {
     "name": "stdout",
     "output_type": "stream",
     "text": [
      "Deleting items pertaining to File Name --  CCU GOLDEN CREEK 1-1-26TFH CMP (01-26-2020).pdf\n",
      "Deleting  d944447b-5c39-4deb-9944-ac35c16c8632\n",
      "Deleting  8c9fd165-d9ef-487f-8f56-2bc01be6fa03\n",
      "Deleting  2d34ef8e-7631-4c08-a234-03b0b87b1cef\n",
      "Deleting  46829732-3e2b-41af-b306-7e4143ff1b0a\n",
      "Deleting  a5ce9117-7ec7-4ce6-a133-a146fa8dce3c\n",
      "Deleting  a902204d-b3a2-47f5-b49e-a3666422988e\n",
      "Deleting  97e53010-01e5-45d2-aed8-039f28981122\n",
      "Deleting  c8147448-f1da-413b-acd5-fd84cb7d6094\n",
      "Deleting  e90ae704-342c-4e67-aa63-5a803f076fb9\n",
      "Deleting  ff8ba127-dd5c-4bf1-9ce1-2285b27fcc6d\n"
     ]
    }
   ],
   "source": [
    "_cleanExistingDynamoValues('Time-Log', 'CCU GOLDEN XXXXX.pdf')"
   ]
  },
  {
   "cell_type": "markdown",
   "metadata": {},
   "source": [
    "## Sample showing pulling in all tables - Pay attention, there is no limit of 100 here"
   ]
  },
  {
   "cell_type": "markdown",
   "metadata": {},
   "source": [
    "db = boto3.resource('dynamodb', region_name=\"us-east-1\")\n",
    "tables = list([x.name for x in db.tables.all()])\n",
    "print(tables)"
   ]
  },
  {
   "cell_type": "markdown",
   "metadata": {},
   "source": [
    "# Sample Function showing creating tables in DynamoDB"
   ]
  },
  {
   "cell_type": "code",
   "execution_count": 55,
   "metadata": {},
   "outputs": [],
   "source": [
    "def _writeToDynamoDB(dd_table_name):\n",
    "\n",
    "        # Get the service resource.\n",
    "        dynamodb = boto3.resource('dynamodb', config=config)\n",
    "        dynamodb_client = boto3.client('dynamodb', config=config)\n",
    "        \n",
    "        dd_table_name = dd_table_name \\\n",
    "                        .replace(\" \", \"-\") \\\n",
    "                        .replace(\"(\", \"-\") \\\n",
    "                        .replace(\")\", \"-\") \\\n",
    "                        .replace(\"&\", \"-\") \\\n",
    "                        .replace(\",\", \" \") \\\n",
    "                        .replace(\":\", \"-\") \\\n",
    "                        .replace('/', '--') \\\n",
    "                        .replace(\"#\", 'No') \\\n",
    "                        .replace('\"', 'Inch') \n",
    "\n",
    "        if len(dd_table_name) <= 3:\n",
    "            dd_table_name = dd_table_name + '-xxxx'\n",
    "            \n",
    "        print(\"DynamoDB table name is {}\".format(dd_table_name))\n",
    "\n",
    "        # Create the DynamoDB table.\n",
    "        try:\n",
    "            \n",
    "            existing_tables = list([x.name for x in dynamodb.tables.all()])\n",
    "\n",
    "            # existing_tables = dynamodb_client.list_tables()['TableNames']\n",
    "\n",
    "            if dd_table_name not in existing_tables:\n",
    "                table = dynamodb.create_table(\n",
    "                    TableName=dd_table_name,\n",
    "                    KeySchema=[\n",
    "                        {\n",
    "                            'AttributeName': 'Id',\n",
    "                            'KeyType': 'HASH'\n",
    "                        }\n",
    "                    ],\n",
    "                    AttributeDefinitions=[\n",
    "                        {\n",
    "                            'AttributeName': 'Id',\n",
    "                            'AttributeType': 'S'\n",
    "                        },\n",
    "                    ],\n",
    "                    BillingMode='PAY_PER_REQUEST',\n",
    "                )\n",
    "                # Wait until the table exists, this will take a minute or so\n",
    "                table.meta.client.get_waiter('table_exists').wait(TableName=dd_table_name)\n",
    "                # Print out some data about the table.\n",
    "                print(\"Table successfully created. Item count is: \" + str(table.item_count))\n",
    "        # except dynamodb_client.exceptions.ResourceInUseException:\n",
    "        except ClientError as e:\n",
    "            if e.response['Error']['Code'] in [\"ThrottlingException\", \"ProvisionedThroughputExceededException\"]:\n",
    "                msg = f\"DynamoDB ] Write Failed from DynamoDB, Throttling Exception [{e}] [{traceback.format_exc()}]\"\n",
    "                logging.warning(msg)\n",
    "                raise e\n",
    "            else:\n",
    "                msg = f\"DynamoDB Write Failed from DynamoDB Exception [{e}] [{traceback.format_exc()}]\"\n",
    "                logging.error(msg)\n",
    "                raise e\n",
    "\n",
    "        except Exception as e:\n",
    "             msg = f\"DynamoDB Write Failed from DynamoDB Exception [{e}] [{traceback.format_exc()}]\"\n",
    "             logging.error(msg)\n",
    "             raise Exception(e)\n",
    "        \n",
    "        "
   ]
  },
  {
   "cell_type": "markdown",
   "metadata": {},
   "source": [
    "### Create some dummy tables"
   ]
  },
  {
   "cell_type": "code",
   "execution_count": null,
   "metadata": {},
   "outputs": [],
   "source": [
    "for i in range(100):\n",
    "    _writeToDynamoDB(\"table \" + str(i))"
   ]
  },
  {
   "cell_type": "code",
   "execution_count": 57,
   "metadata": {},
   "outputs": [
    {
     "name": "stdout",
     "output_type": "stream",
     "text": [
      "['Casing-Strings', 'Drill-Bits', 'Drill-String-Components', 'Drilling-Parameters', 'Head-Count----Manhours', 'Nxxxx', 'Survey-Data', 'Time-Log', 'key-values', 'table-0', 'table-1', 'table-10', 'table-11', 'table-12', 'table-13', 'table-14', 'table-15', 'table-16', 'table-17', 'table-18', 'table-19', 'table-2', 'table-20', 'table-21', 'table-22', 'table-23', 'table-24', 'table-25', 'table-26', 'table-27', 'table-28', 'table-29', 'table-3', 'table-30', 'table-31', 'table-32', 'table-33', 'table-34', 'table-35', 'table-36', 'table-37', 'table-38', 'table-39', 'table-4', 'table-40', 'table-41', 'table-42', 'table-43', 'table-44', 'table-45', 'table-46', 'table-47', 'table-48', 'table-49', 'table-5', 'table-50', 'table-51', 'table-52', 'table-53', 'table-54', 'table-55', 'table-56', 'table-57', 'table-58', 'table-59', 'table-6', 'table-60', 'table-61', 'table-62', 'table-63', 'table-64', 'table-65', 'table-66', 'table-67', 'table-68', 'table-69', 'table-7', 'table-70', 'table-71', 'table-72', 'table-73', 'table-74', 'table-75', 'table-76', 'table-77', 'table-78', 'table-79', 'table-8', 'table-80', 'table-81', 'table-82', 'table-83', 'table-84', 'table-85', 'table-86', 'table-87', 'table-88', 'table-89', 'table-9', 'table-90', 'table-91', 'table-92', 'table-93', 'table-94', 'table-95', 'table-96', 'table-97', 'table-98', 'table-99', 'xto-etl-errors']\n"
     ]
    }
   ],
   "source": [
    "db = boto3.resource('dynamodb', region_name=\"us-east-1\")\n",
    "tables = list([x.name for x in db.tables.all()])\n",
    "print(tables)"
   ]
  },
  {
   "cell_type": "code",
   "execution_count": 65,
   "metadata": {},
   "outputs": [],
   "source": [
    "### Check if you are getting more than 100 tables"
   ]
  },
  {
   "cell_type": "code",
   "execution_count": 59,
   "metadata": {},
   "outputs": [
    {
     "name": "stdout",
     "output_type": "stream",
     "text": [
      "110\n"
     ]
    }
   ],
   "source": [
    "print(len(tables))"
   ]
  },
  {
   "cell_type": "code",
   "execution_count": null,
   "metadata": {},
   "outputs": [],
   "source": []
  }
 ],
 "metadata": {
  "instance_type": "ml.t3.medium",
  "kernelspec": {
   "display_name": "Python 3 (Data Science)",
   "language": "python",
   "name": "python3__SAGEMAKER_INTERNAL__arn:aws:sagemaker:us-east-1:081325390199:image/datascience-1.0"
  },
  "language_info": {
   "codemirror_mode": {
    "name": "ipython",
    "version": 3
   },
   "file_extension": ".py",
   "mimetype": "text/x-python",
   "name": "python",
   "nbconvert_exporter": "python",
   "pygments_lexer": "ipython3",
   "version": "3.7.10"
  },
  "widgets": {
   "application/vnd.jupyter.widget-state+json": {
    "state": {},
    "version_major": 2,
    "version_minor": 0
   }
  }
 },
 "nbformat": 4,
 "nbformat_minor": 4
}
